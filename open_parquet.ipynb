{
 "cells": [
  {
   "cell_type": "code",
   "execution_count": 22,
   "metadata": {},
   "outputs": [
    {
     "name": "stdout",
     "output_type": "stream",
     "text": [
      "Using coverage_2G.gpkg for 2G\n",
      "Using coverage_3G.gpkg for 3G\n",
      "Using coverage_4G.gpkg for 4G\n"
     ]
    }
   ],
   "source": [
    "import geopandas as gpd\n",
    "import pandas as pd\n",
    "import os\n",
    "from shapely import wkt\n",
    "\n",
    "# Group files by radio type\n",
    "radio_files = {'2G': [], '3G': [], '4G': [], '5G': []}\n",
    "\n",
    "# Find all relevant files and group them\n",
    "for f in os.listdir():\n",
    "    if f.endswith(('.gpkg', '.geojson')):\n",
    "        for rt in ['2G', '3G', '4G', '5G']:\n",
    "            if rt in f:\n",
    "                radio_files[rt].append(f)\n",
    "\n",
    "# Check for multiple files per radio type\n",
    "for rt, files in radio_files.items():\n",
    "    if len(files) > 1:\n",
    "        print(f\"WARNING: Multiple files found for {rt}: {files}\")\n",
    "\n",
    "# Process one file per radio type\n",
    "concatenated = []\n",
    "for rt, files in radio_files.items():\n",
    "    if files:\n",
    "        try:\n",
    "            # Use the first file found for this radio type\n",
    "            file_name = files[0]\n",
    "            data = gpd.read_file(file_name)\n",
    "            data['type'] = rt\n",
    "            concatenated.append(data)\n",
    "            print(f\"Using {file_name} for {rt}\")\n",
    "        except Exception as e:\n",
    "            print(f\"Error reading {file_name}: {e}\")\n",
    "\n",
    "# Combine data\n",
    "if concatenated:\n",
    "    coverage_data = gpd.GeoDataFrame(pd.concat(concatenated, ignore_index=True))\n",
    "    coverage_data[\"coverage\"] = 1\n",
    "    coverage_data['WKT'] = coverage_data['geometry'].apply(lambda geom: wkt.dumps(geom))\n",
    "    coverage_data['crs'] = 'epsg:4326' \n",
    "    coverage_data.drop(columns=['geometry']).to_csv(\"coverage_all.csv\")\n",
    "else:\n",
    "    print(\"No files processed\")"
   ]
  },
  {
   "cell_type": "code",
   "execution_count": 15,
   "metadata": {},
   "outputs": [
    {
     "data": {
      "text/html": [
       "<div>\n",
       "<style scoped>\n",
       "    .dataframe tbody tr th:only-of-type {\n",
       "        vertical-align: middle;\n",
       "    }\n",
       "\n",
       "    .dataframe tbody tr th {\n",
       "        vertical-align: top;\n",
       "    }\n",
       "\n",
       "    .dataframe thead th {\n",
       "        text-align: right;\n",
       "    }\n",
       "</style>\n",
       "<table border=\"1\" class=\"dataframe\">\n",
       "  <thead>\n",
       "    <tr style=\"text-align: right;\">\n",
       "      <th></th>\n",
       "      <th>DN</th>\n",
       "      <th>coverage</th>\n",
       "      <th>geometry</th>\n",
       "      <th>type</th>\n",
       "    </tr>\n",
       "  </thead>\n",
       "  <tbody>\n",
       "    <tr>\n",
       "      <th>0</th>\n",
       "      <td>1</td>\n",
       "      <td>1</td>\n",
       "      <td>POLYGON ((33.72623 -9.54642, 33.72623 -9.55111...</td>\n",
       "      <td>2G</td>\n",
       "    </tr>\n",
       "    <tr>\n",
       "      <th>1</th>\n",
       "      <td>1</td>\n",
       "      <td>1</td>\n",
       "      <td>POLYGON ((33.74049 -9.54877, 33.74049 -9.55111...</td>\n",
       "      <td>2G</td>\n",
       "    </tr>\n",
       "    <tr>\n",
       "      <th>2</th>\n",
       "      <td>1</td>\n",
       "      <td>1</td>\n",
       "      <td>POLYGON ((33.73098 -9.54408, 33.73098 -9.54642...</td>\n",
       "      <td>2G</td>\n",
       "    </tr>\n",
       "    <tr>\n",
       "      <th>3</th>\n",
       "      <td>2</td>\n",
       "      <td>1</td>\n",
       "      <td>POLYGON ((33.75 -9.55346, 33.75 -9.55814, 33.7...</td>\n",
       "      <td>2G</td>\n",
       "    </tr>\n",
       "    <tr>\n",
       "      <th>4</th>\n",
       "      <td>1</td>\n",
       "      <td>1</td>\n",
       "      <td>POLYGON ((33.73336 -9.5558, 33.73336 -9.55814,...</td>\n",
       "      <td>2G</td>\n",
       "    </tr>\n",
       "    <tr>\n",
       "      <th>...</th>\n",
       "      <td>...</td>\n",
       "      <td>...</td>\n",
       "      <td>...</td>\n",
       "      <td>...</td>\n",
       "    </tr>\n",
       "    <tr>\n",
       "      <th>25451</th>\n",
       "      <td>1</td>\n",
       "      <td>1</td>\n",
       "      <td>POLYGON ((35.17853 -16.13336, 35.18091 -16.133...</td>\n",
       "      <td>4G</td>\n",
       "    </tr>\n",
       "    <tr>\n",
       "      <th>25452</th>\n",
       "      <td>1</td>\n",
       "      <td>1</td>\n",
       "      <td>POLYGON ((35.16665 -16.14478, 35.16665 -16.147...</td>\n",
       "      <td>4G</td>\n",
       "    </tr>\n",
       "    <tr>\n",
       "      <th>25453</th>\n",
       "      <td>1</td>\n",
       "      <td>1</td>\n",
       "      <td>POLYGON ((35.17378 -16.1425, 35.17615 -16.1425...</td>\n",
       "      <td>4G</td>\n",
       "    </tr>\n",
       "    <tr>\n",
       "      <th>25454</th>\n",
       "      <td>1</td>\n",
       "      <td>1</td>\n",
       "      <td>POLYGON ((34.99788 -15.55256, 35.00502 -15.552...</td>\n",
       "      <td>4G</td>\n",
       "    </tr>\n",
       "    <tr>\n",
       "      <th>25455</th>\n",
       "      <td>1</td>\n",
       "      <td>1</td>\n",
       "      <td>POLYGON ((34.85765 -16.17674, 34.88855 -16.176...</td>\n",
       "      <td>4G</td>\n",
       "    </tr>\n",
       "  </tbody>\n",
       "</table>\n",
       "<p>25456 rows × 4 columns</p>\n",
       "</div>"
      ],
      "text/plain": [
       "       DN  coverage                                           geometry type\n",
       "0       1         1  POLYGON ((33.72623 -9.54642, 33.72623 -9.55111...   2G\n",
       "1       1         1  POLYGON ((33.74049 -9.54877, 33.74049 -9.55111...   2G\n",
       "2       1         1  POLYGON ((33.73098 -9.54408, 33.73098 -9.54642...   2G\n",
       "3       2         1  POLYGON ((33.75 -9.55346, 33.75 -9.55814, 33.7...   2G\n",
       "4       1         1  POLYGON ((33.73336 -9.5558, 33.73336 -9.55814,...   2G\n",
       "...    ..       ...                                                ...  ...\n",
       "25451   1         1  POLYGON ((35.17853 -16.13336, 35.18091 -16.133...   4G\n",
       "25452   1         1  POLYGON ((35.16665 -16.14478, 35.16665 -16.147...   4G\n",
       "25453   1         1  POLYGON ((35.17378 -16.1425, 35.17615 -16.1425...   4G\n",
       "25454   1         1  POLYGON ((34.99788 -15.55256, 35.00502 -15.552...   4G\n",
       "25455   1         1  POLYGON ((34.85765 -16.17674, 34.88855 -16.176...   4G\n",
       "\n",
       "[25456 rows x 4 columns]"
      ]
     },
     "execution_count": 15,
     "metadata": {},
     "output_type": "execute_result"
    }
   ],
   "source": [
    "coverage_data"
   ]
  },
  {
   "cell_type": "code",
   "execution_count": 2,
   "metadata": {},
   "outputs": [
    {
     "name": "stdout",
     "output_type": "stream",
     "text": [
      "Collecting pyarrow\n",
      "  Downloading pyarrow-19.0.1-cp311-cp311-macosx_12_0_arm64.whl.metadata (3.3 kB)\n",
      "Downloading pyarrow-19.0.1-cp311-cp311-macosx_12_0_arm64.whl (30.7 MB)\n",
      "\u001b[2K   \u001b[90m━━━━━━━━━━━━━━━━━━━━━━━━━━━━━━━━━━━━━━━━\u001b[0m \u001b[32m30.7/30.7 MB\u001b[0m \u001b[31m111.0 MB/s\u001b[0m eta \u001b[36m0:00:00\u001b[0ma \u001b[36m0:00:01\u001b[0m\n",
      "\u001b[?25hInstalling collected packages: pyarrow\n",
      "Successfully installed pyarrow-19.0.1\n",
      "Note: you may need to restart the kernel to use updated packages.\n"
     ]
    }
   ],
   "source": [
    "pip install pyarrow"
   ]
  },
  {
   "cell_type": "code",
   "execution_count": 3,
   "metadata": {},
   "outputs": [
    {
     "name": "stdout",
     "output_type": "stream",
     "text": [
      "   coverage processed_date\n",
      "0         3     2025-02-18\n",
      "1         3     2025-02-18\n",
      "2         3     2025-02-18\n",
      "3         3     2025-02-18\n",
      "4         3     2025-02-18\n"
     ]
    }
   ],
   "source": [
    "import pandas as pd\n",
    "\n",
    "df = pd.read_parquet('MWI-mobilecoverage(1).parquet')\n",
    "print(df.head())"
   ]
  },
  {
   "cell_type": "code",
   "execution_count": 4,
   "metadata": {},
   "outputs": [
    {
     "data": {
      "text/plain": [
       "Index(['coverage', 'processed_date'], dtype='object')"
      ]
     },
     "execution_count": 4,
     "metadata": {},
     "output_type": "execute_result"
    }
   ],
   "source": [
    "df.columns"
   ]
  },
  {
   "cell_type": "code",
   "execution_count": 6,
   "metadata": {},
   "outputs": [
    {
     "data": {
      "text/plain": [
       "coverage\n",
       "3    21793587\n",
       "1     1223452\n",
       "2       51633\n",
       "Name: count, dtype: int64"
      ]
     },
     "execution_count": 6,
     "metadata": {},
     "output_type": "execute_result"
    }
   ],
   "source": [
    "df.coverage.value_counts()"
   ]
  },
  {
   "cell_type": "code",
   "execution_count": null,
   "metadata": {},
   "outputs": [],
   "source": []
  }
 ],
 "metadata": {
  "kernelspec": {
   "display_name": "giga-inframapkit-env",
   "language": "python",
   "name": "python3"
  },
  "language_info": {
   "codemirror_mode": {
    "name": "ipython",
    "version": 3
   },
   "file_extension": ".py",
   "mimetype": "text/x-python",
   "name": "python",
   "nbconvert_exporter": "python",
   "pygments_lexer": "ipython3",
   "version": "3.11.11"
  }
 },
 "nbformat": 4,
 "nbformat_minor": 2
}
